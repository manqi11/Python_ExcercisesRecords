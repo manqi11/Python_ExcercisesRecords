{
 "cells": [
  {
   "cell_type": "code",
   "execution_count": 192,
   "metadata": {},
   "outputs": [],
   "source": [
    "#Import statements for necessary package pandas and numpy\n",
    "import pandas as pd\n",
    "import numpy as np\n",
    "from sklearn.preprocessing import *\n",
    "import matplotlib.pyplot as plt"
   ]
  },
  {
   "cell_type": "code",
   "execution_count": 193,
   "metadata": {},
   "outputs": [],
   "source": [
    "# Download a free dataset online, which contains the stats for college admission\n",
    "admission=pd.read_csv(\"Admission_Predict_Ver1.1.csv\")"
   ]
  },
  {
   "cell_type": "code",
   "execution_count": 194,
   "metadata": {},
   "outputs": [
    {
     "data": {
      "text/html": [
       "<div>\n",
       "<style scoped>\n",
       "    .dataframe tbody tr th:only-of-type {\n",
       "        vertical-align: middle;\n",
       "    }\n",
       "\n",
       "    .dataframe tbody tr th {\n",
       "        vertical-align: top;\n",
       "    }\n",
       "\n",
       "    .dataframe thead th {\n",
       "        text-align: right;\n",
       "    }\n",
       "</style>\n",
       "<table border=\"1\" class=\"dataframe\">\n",
       "  <thead>\n",
       "    <tr style=\"text-align: right;\">\n",
       "      <th></th>\n",
       "      <th>Serial No.</th>\n",
       "      <th>GRE Score</th>\n",
       "      <th>TOEFL Score</th>\n",
       "      <th>University Rating</th>\n",
       "      <th>SOP</th>\n",
       "      <th>LOR</th>\n",
       "      <th>CGPA</th>\n",
       "      <th>Research</th>\n",
       "      <th>Chance of Admit</th>\n",
       "    </tr>\n",
       "  </thead>\n",
       "  <tbody>\n",
       "    <tr>\n",
       "      <th>0</th>\n",
       "      <td>1</td>\n",
       "      <td>337</td>\n",
       "      <td>118</td>\n",
       "      <td>4</td>\n",
       "      <td>4.5</td>\n",
       "      <td>4.5</td>\n",
       "      <td>9.65</td>\n",
       "      <td>1</td>\n",
       "      <td>0.92</td>\n",
       "    </tr>\n",
       "    <tr>\n",
       "      <th>1</th>\n",
       "      <td>2</td>\n",
       "      <td>324</td>\n",
       "      <td>107</td>\n",
       "      <td>4</td>\n",
       "      <td>4.0</td>\n",
       "      <td>4.5</td>\n",
       "      <td>8.87</td>\n",
       "      <td>1</td>\n",
       "      <td>0.76</td>\n",
       "    </tr>\n",
       "    <tr>\n",
       "      <th>2</th>\n",
       "      <td>3</td>\n",
       "      <td>316</td>\n",
       "      <td>104</td>\n",
       "      <td>3</td>\n",
       "      <td>3.0</td>\n",
       "      <td>3.5</td>\n",
       "      <td>8.00</td>\n",
       "      <td>1</td>\n",
       "      <td>0.72</td>\n",
       "    </tr>\n",
       "    <tr>\n",
       "      <th>3</th>\n",
       "      <td>4</td>\n",
       "      <td>322</td>\n",
       "      <td>110</td>\n",
       "      <td>3</td>\n",
       "      <td>3.5</td>\n",
       "      <td>2.5</td>\n",
       "      <td>8.67</td>\n",
       "      <td>1</td>\n",
       "      <td>0.80</td>\n",
       "    </tr>\n",
       "    <tr>\n",
       "      <th>4</th>\n",
       "      <td>5</td>\n",
       "      <td>314</td>\n",
       "      <td>103</td>\n",
       "      <td>2</td>\n",
       "      <td>2.0</td>\n",
       "      <td>3.0</td>\n",
       "      <td>8.21</td>\n",
       "      <td>0</td>\n",
       "      <td>0.65</td>\n",
       "    </tr>\n",
       "  </tbody>\n",
       "</table>\n",
       "</div>"
      ],
      "text/plain": [
       "   Serial No.  GRE Score  TOEFL Score  University Rating  SOP  LOR   CGPA  \\\n",
       "0           1        337          118                  4  4.5   4.5  9.65   \n",
       "1           2        324          107                  4  4.0   4.5  8.87   \n",
       "2           3        316          104                  3  3.0   3.5  8.00   \n",
       "3           4        322          110                  3  3.5   2.5  8.67   \n",
       "4           5        314          103                  2  2.0   3.0  8.21   \n",
       "\n",
       "   Research  Chance of Admit   \n",
       "0         1              0.92  \n",
       "1         1              0.76  \n",
       "2         1              0.72  \n",
       "3         1              0.80  \n",
       "4         0              0.65  "
      ]
     },
     "execution_count": 194,
     "metadata": {},
     "output_type": "execute_result"
    }
   ],
   "source": [
    "# Check the data types in the pet dataset\n",
    "admission.dtypes\n",
    "#Examine the first few lines of the dataset\n",
    "admission.head()"
   ]
  },
  {
   "cell_type": "code",
   "execution_count": 195,
   "metadata": {},
   "outputs": [],
   "source": [
    "#Normalize numeric values, TOFEL Score and GRE score\n",
    "TFscore= admission.loc[:,\"TOEFL Score\"]\n",
    "TFscore=pd.DataFrame(TFscore)\n",
    "GREscore= admission.loc[:,\"GRE Score\"]\n",
    "GREscore=pd.DataFrame(GREscore)"
   ]
  },
  {
   "cell_type": "code",
   "execution_count": 196,
   "metadata": {},
   "outputs": [
    {
     "data": {
      "text/plain": [
       "StandardScaler(copy=True, with_mean=True, with_std=True)"
      ]
     },
     "execution_count": 196,
     "metadata": {},
     "output_type": "execute_result"
    }
   ],
   "source": [
    "# I use standardized normalization to norm the TOFEL scores and GRE scores\n",
    "standard_scaler = StandardScaler().fit(TFscore)\n",
    "standard_scaler\n",
    "standard_scaler2 = StandardScaler().fit(GREscore)\n",
    "standard_scaler2"
   ]
  },
  {
   "cell_type": "code",
   "execution_count": 197,
   "metadata": {},
   "outputs": [],
   "source": [
    "normed_TOFEL_Score = standard_scaler.transform(TFscore)\n",
    "normed_GRE_Score = standard_scaler.transform(GREscore)\n",
    "admission[\"normed_GRE\"]=normed_GRE_Score\n",
    "admission[\"normed_TOFEL\"]=normed_TOFEL_Score"
   ]
  },
  {
   "cell_type": "code",
   "execution_count": 198,
   "metadata": {},
   "outputs": [],
   "source": [
    "# I will bin the Tofel scores in the dataset based on percentiles\n",
    "# I have assigned 5 bins, at the 20%,40%,60%,80%, and 100& percentile.\n",
    "x=admission[\"TOEFL Score\"]\n",
    "x=pd.DataFrame(x)\n",
    "NumberOfBins=5"
   ]
  },
  {
   "cell_type": "code",
   "execution_count": 199,
   "metadata": {},
   "outputs": [
    {
     "name": "stdout",
     "output_type": "stream",
     "text": [
      "[ 92. 102. 105. 109. 113. 120.]\n",
      "[  0.  20.  40.  60.  80. 100.]\n"
     ]
    }
   ],
   "source": [
    "# Here are the procedure to create the 5 bins. The bounds for each bin and the corresponding percentiles\n",
    "# are printed below\n",
    "percentiles = np.linspace(0, 100, NumberOfBins + 1)\n",
    "bounds = np.percentile(x, percentiles)\n",
    "print(bounds)\n",
    "print(percentiles)"
   ]
  },
  {
   "cell_type": "code",
   "execution_count": 200,
   "metadata": {},
   "outputs": [],
   "source": [
    "# I decode categorical data \"Research\" type into research university and teaching university\n",
    "# 1 represents research university, 0 represent teaching university \n",
    "Replace1=admission.loc[:,\"Research\"]==1\n",
    "Replace2=admission.loc[:,\"Research\"]==0\n",
    "admission.loc[Replace1,\"Research\"]=\"Research_Univeristy\"\n",
    "admission.loc[Replace2,\"Research\"]=\"Teaching_Univeristy\""
   ]
  },
  {
   "cell_type": "code",
   "execution_count": 201,
   "metadata": {},
   "outputs": [],
   "source": [
    "#I do not have any missing data in this dataset\n",
    "# If there are missing values in the Research Category, I will impute the data in the following way\n",
    "MissingValue = admission.loc[:,\"Research\"] == \"?\"\n",
    "admission.loc[MissingValue, \"Research\"] = \"No_Type\""
   ]
  },
  {
   "cell_type": "code",
   "execution_count": 202,
   "metadata": {},
   "outputs": [],
   "source": [
    "# I will consolidate the categorical data \"University Rating\"\n",
    "# Instead of 5 categories of ratings, I consolidated it into 3 categories \n",
    "# Low rating, medium rating, and high rating\n",
    "admission[\"University Rating\"]\n",
    "admission.loc[admission.loc[:,\"University Rating\"]==1,\"University Rating\"]=\"Low rating\"\n",
    "admission.loc[admission.loc[:,\"University Rating\"]==2,\"University Rating\"]=\"Low rating\"\n",
    "admission.loc[admission.loc[:,\"University Rating\"]==3,\"University Rating\"]=\"Medium rating\"\n",
    "admission.loc[admission.loc[:,\"University Rating\"]==4,\"University Rating\"]=\"High rating\"\n",
    "admission.loc[admission.loc[:,\"University Rating\"]==5,\"University Rating\"]=\"High rating\""
   ]
  },
  {
   "cell_type": "code",
   "execution_count": 203,
   "metadata": {
    "scrolled": true
   },
   "outputs": [],
   "source": [
    "#One-hot encode categorical data with at least 3 categories (at least 1 column)\n",
    "\n",
    "# Create 3 new columns, one for each state in \"Shape\"\n",
    "admission.loc[:, \"Low Rating\"] = (admission.loc[:, \"University Rating\"] == \"Low rating\").astype(int)\n",
    "admission.loc[:, \"Medium Rating\"] = (admission.loc[:, \"University Rating\"] == \"Medium rating\").astype(int)\n",
    "admission.loc[:, \"High Rating\"] = (admission.loc[:, \"University Rating\"] == \"High rating\").astype(int)\n"
   ]
  },
  {
   "cell_type": "code",
   "execution_count": null,
   "metadata": {},
   "outputs": [],
   "source": [
    "#Remove obsolete columns.\n",
    "admission = admission.drop(\"University Rating\", axis=1)"
   ]
  },
  {
   "cell_type": "code",
   "execution_count": 184,
   "metadata": {
    "scrolled": true
   },
   "outputs": [
    {
     "data": {
      "text/plain": [
       "<matplotlib.axes._subplots.AxesSubplot at 0x1a1a498668>"
      ]
     },
     "execution_count": 184,
     "metadata": {},
     "output_type": "execute_result"
    },
    {
     "data": {
      "image/png": "[encoded data removed]",
      "text/plain": [
       "<Figure size 432x288 with 1 Axes>"
      ]
     },
     "metadata": {
      "needs_background": "light"
     },
     "output_type": "display_data"
    }
   ],
   "source": [
    "#Plot for the University Rating in three categories\n",
    "admission[\"University Rating\"].value_counts().plot(kind=\"bar\")"
   ]
  },
  {
   "cell_type": "code",
   "execution_count": 185,
   "metadata": {},
   "outputs": [
    {
     "data": {
      "text/plain": [
       "<matplotlib.axes._subplots.AxesSubplot at 0x1a1a39eef0>"
      ]
     },
     "execution_count": 185,
     "metadata": {},
     "output_type": "execute_result"
    },
    {
     "data": {
      "image/png": "[encoded data removed]",
      "text/plain": [
       "<Figure size 432x288 with 1 Axes>"
      ]
     },
     "metadata": {
      "needs_background": "light"
     },
     "output_type": "display_data"
    }
   ],
   "source": [
    "#Plot for the University Rating in two categories\n",
    "\n",
    "admission[\"Research\"].value_counts().plot(kind=\"bar\")"
   ]
  },
  {
   "cell_type": "code",
   "execution_count": 186,
   "metadata": {
    "scrolled": false
   },
   "outputs": [
    {
     "data": {
      "text/plain": [
       "<matplotlib.axes._subplots.AxesSubplot at 0x1a1a2a7e80>"
      ]
     },
     "execution_count": 186,
     "metadata": {},
     "output_type": "execute_result"
    },
    {
     "data": {
      "image/png": "[encoded data removed]",
      "text/plain": [
       "<Figure size 432x288 with 1 Axes>"
      ]
     },
     "metadata": {
      "needs_background": "light"
     },
     "output_type": "display_data"
    }
   ],
   "source": [
    "#Plot the TOFEL Scores as a continuous varaible \n",
    "admission[\"TOEFL Score\"].plot(kind=\"hist\")"
   ]
  },
  {
   "cell_type": "code",
   "execution_count": null,
   "metadata": {},
   "outputs": [],
   "source": [
    "\n",
    "# A summary comment block on how the categorical variables have been treated: decoded, imputed, consolidated, and one-hot encoded. Which attributes were plotted and why.\n",
    "\n",
    "# In this data analysis, I decoded the \"Research\" variable into \"Research_University\" and\n",
    "#\"Teaching University\", because the previous \"1\" and \"0\" levels were not informative.\n",
    "# I also impute the missing values in this variables ( there were none missing values in the whole dataset)\n",
    "# I consolidated the University Rating from 5 to 3 categories (Low rating, medium rating, and hight rating), \n",
    "# because it will be easier for me to explore the relationships between test scores in different ratings of universities\n",
    "# Then, I did one-hot encoding on the \"University Rating\", because I want to create dummy variables for each \n",
    "# level of the university rating. Therefore, I explore whether students rate this university high or not based on their\n",
    "# GPAs, Test scores\n",
    "    \n",
    "    \n",
    "    "
   ]
  }
 ],
 "metadata": {
  "kernelspec": {
   "display_name": "Python 3",
   "language": "python",
   "name": "python3"
  },
  "language_info": {
   "codemirror_mode": {
    "name": "ipython",
    "version": 3
   },
   "file_extension": ".py",
   "mimetype": "text/x-python",
   "name": "python",
   "nbconvert_exporter": "python",
   "pygments_lexer": "ipython3",
   "version": "3.7.2"
  }
 },
 "nbformat": 4,
 "nbformat_minor": 2
}
